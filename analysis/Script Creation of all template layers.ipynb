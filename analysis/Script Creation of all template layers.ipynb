{
 "cells": [
  {
   "cell_type": "code",
   "execution_count": 1,
   "metadata": {
    "collapsed": true
   },
   "outputs": [],
   "source": [
    "from stonemason.template import initialise_project, add_template\n",
    "from stonemason.resolution import create_dependency_graph, resolve\n",
    "import py\n",
    "\n",
    "## Work out dependency graph\n",
    "\n",
    "# Given a template collection\n",
    "template_collection = py.path.local('../templates/python-ds/')"
   ]
  },
  {
   "cell_type": "code",
   "execution_count": 2,
   "metadata": {
    "collapsed": true
   },
   "outputs": [],
   "source": [
    "import json"
   ]
  },
  {
   "cell_type": "code",
   "execution_count": 3,
   "metadata": {
    "collapsed": true
   },
   "outputs": [],
   "source": [
    "metadata = json.load(template_collection.join('metadata.json'))\n",
    "\n",
    "default_template = metadata['default']"
   ]
  },
  {
   "cell_type": "code",
   "execution_count": 1,
   "metadata": {
    "collapsed": true
   },
   "outputs": [],
   "source": [
    "# Create dependency graph\n",
    "metadata = template_collection.join('metadata.json')\n",
    "layers = [x.basename for x in template_collection.listdir() if x.isdir()]\n",
    "\n",
    "g = create_dependency_graph(metadata, layers)\n",
    "\n",
    "# Run through all end points and get thier templating sequences\n",
    "template_orders = {}\n",
    "for layer in layers:\n",
    "    template_orders[layer] = [x.name for x in resolve(g[layer])]\n",
    "\n",
    "\n",
    "import tempfile\n",
    "\n",
    "tmpdir = py.path.local.mkdtemp().mkdir('cookies')\n",
    "\n",
    "if 'basic' in template_orders:\n",
    "    del template_orders['basic'] \n",
    "\n",
    "for layer, deps in template_orders.items():\n",
    "    \n",
    "    print('Testing Layer:', layer)\n",
    "    \n",
    "    print('Initialising with default template')\n",
    "    project_dir = initialise_project(template_collection, output_dir=tmpdir)\n",
    "    \n",
    "    for dep in deps:\n",
    "        layer_path = template_collection.join(dep)\n",
    "        print('Adding layer:', dep)\n",
    "        add_template(layer_path, project_dir)"
   ]
  },
  {
   "cell_type": "code",
   "execution_count": 6,
   "metadata": {
    "collapsed": true
   },
   "outputs": [],
   "source": [
    "from ruamel.yaml import YAML"
   ]
  },
  {
   "cell_type": "code",
   "execution_count": 19,
   "metadata": {
    "collapsed": true
   },
   "outputs": [],
   "source": [
    "meta = py.path.local('/Users/cmusselle/Mango/Workspace/stone-mason/templates/python-ds/conda-recipe/{{cookiecutter.project_name}}/package/recipes/{{cookiecutter.package_name}}/meta.yaml')\n"
   ]
  },
  {
   "cell_type": "code",
   "execution_count": 24,
   "metadata": {},
   "outputs": [],
   "source": [
    "yaml = YAML()\n",
    "yaml.default_flow_style = False\n",
    "\n",
    "# Read in files\n",
    "meta_spec = yaml.load(meta.open())"
   ]
  },
  {
   "cell_type": "code",
   "execution_count": 25,
   "metadata": {
    "collapsed": true
   },
   "outputs": [],
   "source": [
    "from clint.textui import puts, indent"
   ]
  },
  {
   "cell_type": "code",
   "execution_count": 26,
   "metadata": {
    "collapsed": true
   },
   "outputs": [],
   "source": [
    "import sys"
   ]
  },
  {
   "cell_type": "code",
   "execution_count": 42,
   "metadata": {
    "collapsed": true
   },
   "outputs": [],
   "source": [
    "print('efwfewfe')"
   ]
  },
  {
   "cell_type": "code",
   "execution_count": 43,
   "metadata": {},
   "outputs": [],
   "source": [
    "sys.stdout = open('templog', 'w')"
   ]
  },
  {
   "cell_type": "code",
   "execution_count": 45,
   "metadata": {},
   "outputs": [],
   "source": [
    "sys.stdout.flush()"
   ]
  },
  {
   "cell_type": "code",
   "execution_count": 47,
   "metadata": {
    "collapsed": true
   },
   "outputs": [],
   "source": [
    "puts('wefwfewfe')"
   ]
  },
  {
   "cell_type": "code",
   "execution_count": 29,
   "metadata": {
    "collapsed": true
   },
   "outputs": [],
   "source": [
    "import clint"
   ]
  }
 ],
 "metadata": {
  "kernelspec": {
   "display_name": "Python 3",
   "language": "python",
   "name": "python3"
  },
  "language_info": {
   "codemirror_mode": {
    "name": "ipython",
    "version": 3
   },
   "file_extension": ".py",
   "mimetype": "text/x-python",
   "name": "python",
   "nbconvert_exporter": "python",
   "pygments_lexer": "ipython3",
   "version": "3.6.1"
  }
 },
 "nbformat": 4,
 "nbformat_minor": 2
}
