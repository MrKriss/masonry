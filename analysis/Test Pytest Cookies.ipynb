{
 "cells": [
  {
   "cell_type": "code",
   "execution_count": 1,
   "metadata": {
    "collapsed": true
   },
   "outputs": [],
   "source": [
    "import py.path"
   ]
  },
  {
   "cell_type": "code",
   "execution_count": 2,
   "metadata": {
    "collapsed": true
   },
   "outputs": [],
   "source": [
    "USER_CONFIG = u\"\"\"\n",
    "cookiecutters_dir: \"{cookiecutters_dir}\"\n",
    "replay_dir: \"{replay_dir}\"\n",
    "\"\"\"\n",
    "\n",
    "def _cookiecutter_config_file():\n",
    "\n",
    "    user_dir = py.path.local.mkdtemp().mkdir('user_dir')\n",
    "\n",
    "    cookiecutters_dir = user_dir.mkdir('cookiecutters')\n",
    "    replay_dir = user_dir.mkdir('cookiecutter_replay')\n",
    "\n",
    "    config_text = USER_CONFIG.format(\n",
    "        cookiecutters_dir=cookiecutters_dir,\n",
    "        replay_dir=replay_dir,\n",
    "    )\n",
    "    config_file = user_dir.join('config')\n",
    "\n",
    "    config_file.write_text(config_text, encoding='utf8')\n",
    "    \n",
    "    return config_file"
   ]
  },
  {
   "cell_type": "code",
   "execution_count": 3,
   "metadata": {
    "collapsed": true
   },
   "outputs": [],
   "source": [
    "from pytest_cookies import Cookies"
   ]
  },
  {
   "cell_type": "code",
   "execution_count": 4,
   "metadata": {
    "collapsed": true
   },
   "outputs": [],
   "source": [
    "\n",
    "def bake_template(template_path, extra_context=None):\n",
    "\n",
    "    # Create Output Factory function to make new directory for template\n",
    "    output_dir = py.path.local.mkdtemp().mkdir('cookies')\n",
    "    output_factory = output_dir.join\n",
    "\n",
    "    cookie = Cookies(template_path, \n",
    "                     output_factory, \n",
    "                     config_file=str(_cookiecutter_config_file()))\n",
    "    \n",
    "    result = cookie.bake(extra_context=extra_context)\n",
    "    output_dir.remove()\n",
    "    \n",
    "    return result\n"
   ]
  },
  {
   "cell_type": "code",
   "execution_count": 7,
   "metadata": {
    "collapsed": true
   },
   "outputs": [],
   "source": [
    "\n",
    "def make_cookie(template_path=None):\n",
    "\n",
    "    # Create Output Factory function to make new directory for template\n",
    "    output_dir = py.path.local.mkdtemp().mkdir('cookies')\n",
    "    output_factory = output_dir.join\n",
    "\n",
    "    cookie = Cookies(template_path, \n",
    "                     output_factory, \n",
    "                     config_file=str(_cookiecutter_config_file()))\n",
    "    \n",
    "    return cookie\n",
    "        "
   ]
  },
  {
   "cell_type": "markdown",
   "metadata": {},
   "source": [
    "# Bake all cookies in a collection"
   ]
  },
  {
   "cell_type": "code",
   "execution_count": 39,
   "metadata": {
    "collapsed": true
   },
   "outputs": [],
   "source": [
    "template_collection = py.path.local('../templates/python-ds/')"
   ]
  },
  {
   "cell_type": "code",
   "execution_count": 40,
   "metadata": {
    "collapsed": true
   },
   "outputs": [],
   "source": [
    "layers = [x for x in template_collection.listdir() if x.isdir()]"
   ]
  },
  {
   "cell_type": "code",
   "execution_count": 41,
   "metadata": {},
   "outputs": [
    {
     "data": {
      "text/plain": [
       "[local('/Users/cmusselle/Mango/Workspace/stone-mason/templates/python-ds/basic'),\n",
       " local('/Users/cmusselle/Mango/Workspace/stone-mason/templates/python-ds/ci'),\n",
       " local('/Users/cmusselle/Mango/Workspace/stone-mason/templates/python-ds/cli'),\n",
       " local('/Users/cmusselle/Mango/Workspace/stone-mason/templates/python-ds/conda-recipe'),\n",
       " local('/Users/cmusselle/Mango/Workspace/stone-mason/templates/python-ds/docker'),\n",
       " local('/Users/cmusselle/Mango/Workspace/stone-mason/templates/python-ds/logging'),\n",
       " local('/Users/cmusselle/Mango/Workspace/stone-mason/templates/python-ds/package'),\n",
       " local('/Users/cmusselle/Mango/Workspace/stone-mason/templates/python-ds/pytest')]"
      ]
     },
     "execution_count": 41,
     "metadata": {},
     "output_type": "execute_result"
    }
   ],
   "source": [
    "layers"
   ]
  },
  {
   "cell_type": "code",
   "execution_count": 42,
   "metadata": {
    "collapsed": true
   },
   "outputs": [],
   "source": [
    "cookie = make_cookie()"
   ]
  },
  {
   "cell_type": "code",
   "execution_count": null,
   "metadata": {
    "collapsed": true
   },
   "outputs": [],
   "source": [
    "cookie._counter = 1\n",
    "res = cookie.bake(template=str(layers[0]))\n",
    "cookie._counter = 1\n",
    "res2 = cookie.bake(template=str(layers[-2]))"
   ]
  },
  {
   "cell_type": "code",
   "execution_count": 37,
   "metadata": {},
   "outputs": [
    {
     "name": "stdout",
     "output_type": "stream",
     "text": [
      "/var/folders/vr/c6gyty1d7rb_swzt_j31r4rdg1hszv/T/tmpz3zqranj/cookies/bake01/my-project\n"
     ]
    },
    {
     "data": {
      "text/plain": [
       "['.gitignore',\n",
       " 'analysis',\n",
       " 'data',\n",
       " 'dev_environment.yml',\n",
       " 'frozen_environment.yml',\n",
       " 'Makefile',\n",
       " 'output',\n",
       " 'README.md']"
      ]
     },
     "execution_count": 37,
     "metadata": {},
     "output_type": "execute_result"
    }
   ],
   "source": [
    "print(res.project)\n",
    "[x.basename for x in res.project.listdir()]"
   ]
  },
  {
   "cell_type": "code",
   "execution_count": 38,
   "metadata": {},
   "outputs": [
    {
     "name": "stdout",
     "output_type": "stream",
     "text": [
      "/var/folders/vr/c6gyty1d7rb_swzt_j31r4rdg1hszv/T/tmpz3zqranj/cookies/bake01/myproject\n"
     ]
    },
    {
     "data": {
      "text/plain": [
       "['.DS_Store', 'Makefile', 'package']"
      ]
     },
     "execution_count": 38,
     "metadata": {},
     "output_type": "execute_result"
    }
   ],
   "source": [
    "print(res2.project)\n",
    "[x.basename for x in res2.project.listdir()]"
   ]
  },
  {
   "cell_type": "code",
   "execution_count": null,
   "metadata": {
    "collapsed": true
   },
   "outputs": [],
   "source": []
  },
  {
   "cell_type": "code",
   "execution_count": null,
   "metadata": {
    "collapsed": true
   },
   "outputs": [],
   "source": []
  },
  {
   "cell_type": "code",
   "execution_count": null,
   "metadata": {
    "collapsed": true
   },
   "outputs": [],
   "source": []
  },
  {
   "cell_type": "code",
   "execution_count": 41,
   "metadata": {},
   "outputs": [
    {
     "name": "stderr",
     "output_type": "stream",
     "text": [
      "Stopping generation because post_gen_project hook script didn't exit successfully\n"
     ]
    },
    {
     "name": "stdout",
     "output_type": "stream",
     "text": [
      "Successfully Rendered: basic\n",
      "Successfully Rendered: ci\n",
      "Failed to Render: cli\n",
      "Hook script failed (exit status: 1)\n"
     ]
    },
    {
     "name": "stderr",
     "output_type": "stream",
     "text": [
      "Stopping generation because post_gen_project hook script didn't exit successfully\n"
     ]
    },
    {
     "name": "stdout",
     "output_type": "stream",
     "text": [
      "Failed to Render: conda-recipe\n",
      "Hook script failed (exit status: 1)\n",
      "Successfully Rendered: docker\n",
      "Successfully Rendered: logging\n",
      "Successfully Rendered: package\n",
      "Successfully Rendered: pytest\n"
     ]
    }
   ],
   "source": [
    "# Create Output Factory function to make new directory for template\n",
    "output_dir = py.path.local.mkdtemp().mkdir('cookies')\n",
    "output_factory = output_dir.join\n",
    "\n",
    "for layer in layers:\n",
    "\n",
    "    result = bake_template(layer.strpath)\n",
    "\n",
    "    if result.exception:\n",
    "        print(f'Failed to Render: {layer.basename}')        \n",
    "        print(result.exception)\n",
    "    else:\n",
    "        print(f'Successfully Rendered: {layer.basename}')"
   ]
  },
  {
   "cell_type": "code",
   "execution_count": 36,
   "metadata": {},
   "outputs": [
    {
     "data": {
      "text/plain": [
       "'pytest'"
      ]
     },
     "execution_count": 36,
     "metadata": {},
     "output_type": "execute_result"
    }
   ],
   "source": [
    "layer.basename\n"
   ]
  },
  {
   "cell_type": "code",
   "execution_count": 112,
   "metadata": {
    "collapsed": true
   },
   "outputs": [],
   "source": [
    "result.exception"
   ]
  },
  {
   "cell_type": "code",
   "execution_count": null,
   "metadata": {
    "collapsed": true
   },
   "outputs": [],
   "source": [
    "output_dir.remove()"
   ]
  },
  {
   "cell_type": "code",
   "execution_count": 1,
   "metadata": {
    "collapsed": true
   },
   "outputs": [],
   "source": [
    "# Get graph of all Deps"
   ]
  },
  {
   "cell_type": "code",
   "execution_count": null,
   "metadata": {
    "collapsed": true
   },
   "outputs": [],
   "source": [
    "from masonry.resolution import create_dependency_graph, resolve\n",
    "\n",
    "import py\n",
    "\n",
    "# Given a template collection\n",
    "template_collection = py.path.local('../templates/python-ds/')\n",
    "\n",
    "# Create dependency graph\n",
    "\n",
    "metadata = template_collection.join('metadata.json')\n",
    "layers = [x.basename for x in template_collection.listdir() if x.isdir()]\n",
    "\n",
    "g = create_dependency_graph(metadata, layers)\n",
    "\n",
    "# Run through all end points and get thier templating sequences\n",
    "i=0\n",
    "\n",
    "ans = [resolve(g[layer]) for layer in layers]\n",
    "\n",
    "template_orders = {}\n",
    "for layer in layers:\n",
    "    template_orders[layer] = [x.name for x in resolve(g[layer])]\n",
    "    "
   ]
  },
  {
   "cell_type": "code",
   "execution_count": 29,
   "metadata": {},
   "outputs": [
    {
     "ename": "NameError",
     "evalue": "name 'cookies' is not defined",
     "output_type": "error",
     "traceback": [
      "\u001b[0;31m---------------------------------------------------------------------------\u001b[0m",
      "\u001b[0;31mNameError\u001b[0m                                 Traceback (most recent call last)",
      "\u001b[0;32m<ipython-input-29-c0029d3a35e5>\u001b[0m in \u001b[0;36m<module>\u001b[0;34m()\u001b[0m\n\u001b[1;32m      1\u001b[0m \u001b[0;32mfor\u001b[0m \u001b[0midx\u001b[0m\u001b[0;34m,\u001b[0m \u001b[0;34m(\u001b[0m\u001b[0mlayer\u001b[0m\u001b[0;34m,\u001b[0m \u001b[0mdeps\u001b[0m\u001b[0;34m)\u001b[0m \u001b[0;32min\u001b[0m \u001b[0menumerate\u001b[0m\u001b[0;34m(\u001b[0m\u001b[0mtemplate_orders\u001b[0m\u001b[0;34m.\u001b[0m\u001b[0mitems\u001b[0m\u001b[0;34m(\u001b[0m\u001b[0;34m)\u001b[0m\u001b[0;34m)\u001b[0m\u001b[0;34m:\u001b[0m\u001b[0;34m\u001b[0m\u001b[0m\n\u001b[0;32m----> 2\u001b[0;31m     \u001b[0mcookies\u001b[0m\u001b[0;34m.\u001b[0m\u001b[0m_count\u001b[0m \u001b[0;34m=\u001b[0m \u001b[0midx\u001b[0m\u001b[0;34m\u001b[0m\u001b[0m\n\u001b[0m\u001b[1;32m      3\u001b[0m     \u001b[0;32mfor\u001b[0m \u001b[0mdep\u001b[0m \u001b[0;32min\u001b[0m \u001b[0mdeps\u001b[0m\u001b[0;34m:\u001b[0m\u001b[0;34m\u001b[0m\u001b[0m\n\u001b[1;32m      4\u001b[0m         \u001b[0mresult\u001b[0m \u001b[0;34m=\u001b[0m \u001b[0mcookies\u001b[0m\u001b[0;34m.\u001b[0m\u001b[0mbake\u001b[0m\u001b[0;34m(\u001b[0m\u001b[0mtemplate\u001b[0m\u001b[0;34m=\u001b[0m\u001b[0mstr\u001b[0m\u001b[0;34m(\u001b[0m\u001b[0mcustom_template\u001b[0m\u001b[0;34m)\u001b[0m\u001b[0;34m,\u001b[0m \u001b[0;34m)\u001b[0m\u001b[0;34m\u001b[0m\u001b[0m\n\u001b[1;32m      5\u001b[0m         \u001b[0mcookies\u001b[0m\u001b[0;34m.\u001b[0m\u001b[0m_count\u001b[0m \u001b[0;34m=\u001b[0m \u001b[0midx\u001b[0m\u001b[0;34m\u001b[0m\u001b[0m\n",
      "\u001b[0;31mNameError\u001b[0m: name 'cookies' is not defined"
     ]
    }
   ],
   "source": [
    "for idx, (layer, deps) in enumerate(template_orders.items()):\n",
    "    cookies._count = idx\n",
    "    for dep in deps:\n",
    "        result = cookies.bake(template=str(custom_template), )\n",
    "        cookies._count = idx\n",
    "\n",
    "        assert result.exit_code == 0\n",
    "        assert result.exception is None\n"
   ]
  },
  {
   "cell_type": "code",
   "execution_count": null,
   "metadata": {
    "collapsed": true
   },
   "outputs": [],
   "source": []
  }
 ],
 "metadata": {
  "kernelspec": {
   "display_name": "Python 3",
   "language": "python",
   "name": "python3"
  },
  "language_info": {
   "codemirror_mode": {
    "name": "ipython",
    "version": 3
   },
   "file_extension": ".py",
   "mimetype": "text/x-python",
   "name": "python",
   "nbconvert_exporter": "python",
   "pygments_lexer": "ipython3",
   "version": "3.6.1"
  }
 },
 "nbformat": 4,
 "nbformat_minor": 2
}
