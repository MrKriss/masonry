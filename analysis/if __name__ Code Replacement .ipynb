{
 "cells": [
  {
   "cell_type": "code",
   "execution_count": 134,
   "metadata": {},
   "outputs": [
    {
     "name": "stdout",
     "output_type": "stream",
     "text": [
      "Overwriting main.py\n"
     ]
    }
   ],
   "source": [
    "%%writefile main.py\n",
    "\"\"\"Main Entry point to {{cookiecutter.package_name}}\"\"\"\n",
    "\n",
    "from pathlib import Path\n",
    "\n",
    "\n",
    "def main(args=None):\n",
    "    \"\"\" Execute the main program entry point \"\"\"\n",
    "    pass\n",
    "\n",
    "\n",
    "if __name__ == '__main__':\n",
    "    main()\n"
   ]
  },
  {
   "cell_type": "code",
   "execution_count": 135,
   "metadata": {},
   "outputs": [],
   "source": [
    "import re \n",
    "from pathlib import Path\n",
    "\n",
    "def add_parse_args(old_file):\n",
    "    \n",
    "    old_file = Path(old_file)\n",
    "    pattern = re.compile(r\"\"\"def main\\(args=None\\):\\s\"\"\")\n",
    "\n",
    "    with old_file.open('r') as old_fh:\n",
    "\n",
    "        new_lines = []\n",
    "\n",
    "        for line in old_fh:\n",
    "            new_lines.append(line)\n",
    "            if pattern.match(line):\n",
    "                print(line)\n",
    "                new_lines.append(next(old_fh))\n",
    "                new_lines.append(\"\\n\")\n",
    "                new_lines.append(\"    args = get_parser().parse_args(args)\\n\")\n",
    "                new_lines.append(\"\\n\")\n",
    "\n",
    "    with old_file.open('w') as old_fh:\n",
    "        old_fh.writelines(new_lines)\n",
    "    "
   ]
  },
  {
   "cell_type": "code",
   "execution_count": 136,
   "metadata": {},
   "outputs": [
    {
     "name": "stdout",
     "output_type": "stream",
     "text": [
      "def main(args=None):\n",
      "\n"
     ]
    }
   ],
   "source": [
    "add_parse_args('main.py')"
   ]
  },
  {
   "cell_type": "code",
   "execution_count": 137,
   "metadata": {},
   "outputs": [
    {
     "name": "stdout",
     "output_type": "stream",
     "text": [
      "\"\"\"Main Entry point to {{cookiecutter.package_name}}\"\"\"\r\n",
      "\r\n",
      "from pathlib import Path\r\n",
      "\r\n",
      "\r\n",
      "def main(args=None):\r\n",
      "    \"\"\" Execute the main program entry point \"\"\"\r\n",
      "\r\n",
      "    args = get_parser().parse_args(args)\r\n",
      "\r\n",
      "    pass\r\n",
      "\r\n",
      "\r\n",
      "if __name__ == '__main__':\r\n",
      "    main()"
     ]
    }
   ],
   "source": [
    "cat main.py"
   ]
  },
  {
   "cell_type": "code",
   "execution_count": 77,
   "metadata": {},
   "outputs": [],
   "source": [
    "import re \n",
    "from pathlib import Path\n",
    "\n",
    "def overwrite_ifname(old_file, new_file):\n",
    "    \n",
    "    old_file = Path(old_file)\n",
    "    new_file = Path(new_file)\n",
    "    \n",
    "    pattern = re.compile(r\"\"\"def main(args=None):\"\"\", flags=re.DOTALL)\n",
    "\n",
    "    old_main_text = old_file.read_text()\n",
    "    new_ifname_text = new_file.read_text()\n",
    "\n",
    "    new_text = pattern.sub(new_ifname_text, old_main_text)\n",
    "    \n",
    "    old_file.write_text(new_text)\n",
    "    new_file.unlink()    "
   ]
  },
  {
   "cell_type": "code",
   "execution_count": 77,
   "metadata": {
    "collapsed": true
   },
   "outputs": [],
   "source": [
    "import re \n",
    "from pathlib import Path\n",
    "\n",
    "def overwrite_ifname(old_file, new_file):\n",
    "    \n",
    "    old_file = Path(old_file)\n",
    "    new_file = Path(new_file)\n",
    "    \n",
    "    pattern = re.compile(r\"\"\"if\\s+__name__\\s+==\\s+['\"]__main__['\"]\\s*:.*$\"\"\", flags=re.DOTALL)\n",
    "\n",
    "    old_main_text = old_file.read_text()\n",
    "    new_ifname_text = new_file.read_text()\n",
    "\n",
    "    new_text = pattern.sub(new_ifname_text, old_main_text)\n",
    "    \n",
    "    old_file.write_text(new_text)\n",
    "    new_file.unlink()    "
   ]
  },
  {
   "cell_type": "code",
   "execution_count": 78,
   "metadata": {
    "collapsed": true
   },
   "outputs": [],
   "source": [
    "overwrite_ifname('main.py', 'main_ifname.py')"
   ]
  },
  {
   "cell_type": "code",
   "execution_count": 79,
   "metadata": {},
   "outputs": [
    {
     "name": "stdout",
     "output_type": "stream",
     "text": [
      "\"\"\"Main Entry point to masonry\"\"\"\r\n",
      "\r\n",
      "from .cli import parse_and_validate_args, parse_project_argument\r\n",
      "from .template import initialise_project, add_template\r\n",
      "from .utils import load_application_data\r\n",
      "from .prompt import prompt_init_project, prompt_add_template\r\n",
      "\r\n",
      "import os\r\n",
      "import json\r\n",
      "from pathlib import Path\r\n",
      "\r\n",
      "\r\n",
      "def main(args=None):\r\n",
      "\r\n",
      "    # Read in Arguments\r\n",
      "    args = parse_and_validate_args(args)\r\n",
      "    print(args)\r\n",
      "\r\n",
      "    project_templates = load_application_data()\r\n",
      "\r\n",
      "    if args['init']:\r\n",
      "\r\n",
      "        template = None\r\n",
      "\r\n",
      "        # Get project\r\n",
      "        if not args['PROJECT']:\r\n",
      "            if project_templates:\r\n",
      "                # Launch inquire\r\n",
      "                project_dir = prompt_init_project(project_templates)\r\n",
      "            else:\r\n",
      "                raise ValueError(\"No known projects to choose from. \"\r\n",
      "                                 \"Add one using the PROJECT argument.\")\r\n",
      "        else:\r\n",
      "            project_dir, template = parse_project_argument(args['PROJECT'])\r\n",
      "\r\n",
      "        # intialise a new project based on template\r\n",
      "        output_dir = Path(args['--output']).resolve()\r\n",
      "\r\n",
      "        initialise_project(\r\n",
      "            project=project_dir,\r\n",
      "            template=template,\r\n",
      "            output_dir=output_dir)\r\n",
      "\r\n",
      "    elif args['add']:\r\n",
      "\r\n",
      "        project_dir = Path(args['--output']).resolve()\r\n",
      "\r\n",
      "        # Load existing state information\r\n",
      "        mason_vars = project_dir / '.mason'\r\n",
      "        with mason_vars.open('r') as f:\r\n",
      "            project_state = json.load(f)\r\n",
      "\r\n",
      "        project_templates_root = project_templates[project_state['project']]\r\n",
      "\r\n",
      "        # Get project template options\r\n",
      "        if not args['TEMPLATE']:\r\n",
      "            # inquire which template to use\r\n",
      "            args['TEMPLATE'] = prompt_add_template(project_templates_root, project_state)\r\n",
      "\r\n",
      "        # Add the right template\r\n",
      "        add_template(templates=args['TEMPLATE'],\r\n",
      "                     project_dir=args['--output'])\r\n",
      "\r\n",
      "\r\n",
      "if __name__ == \"__main__\":\r\n",
      "    \"\"\" This is executed when run from the command line \"\"\"\r\n",
      "    parser = argparse.ArgumentParser()\r\n",
      "\r\n",
      "    # Required positional argument\r\n",
      "    parser.add_argument(\"arg\", help=\"Required positional argument\")\r\n",
      "\r\n",
      "    # Optional argument flag which defaults to False\r\n",
      "    parser.add_argument(\"-f\", \"--flag\", action=\"store_true\", default=False)\r\n",
      "\r\n",
      "    # Optional argument which requires a parameter (eg. -d test)\r\n",
      "    parser.add_argument(\"-n\", \"--name\", action=\"store\", dest=\"name\")\r\n",
      "\r\n",
      "    # Optional verbosity counter (eg. -v, -vv, -vvv, etc.)\r\n",
      "    parser.add_argument(\r\n",
      "        \"-v\",\r\n",
      "        \"--verbose\",\r\n",
      "        action=\"count\",\r\n",
      "        default=0,\r\n",
      "        help=\"Verbosity (-v, -vv, etc)\")\r\n",
      "\r\n",
      "    # Specify output of \"--version\"\r\n",
      "    parser.add_argument(\r\n",
      "        \"--version\",\r\n",
      "        action=\"version\",\r\n",
      "        version=\"%(prog)s (version {version})\".format(version=__version__))\r\n",
      "\r\n",
      "    args = parser.parse_args()\r\n",
      "    main(args)"
     ]
    }
   ],
   "source": [
    "cat main.py"
   ]
  },
  {
   "cell_type": "code",
   "execution_count": 81,
   "metadata": {},
   "outputs": [
    {
     "name": "stdout",
     "output_type": "stream",
     "text": [
      "cat: main_ifname.py: No such file or directory\r\n"
     ]
    }
   ],
   "source": [
    "cat main_ifname.py"
   ]
  },
  {
   "cell_type": "code",
   "execution_count": null,
   "metadata": {
    "collapsed": true
   },
   "outputs": [],
   "source": []
  }
 ],
 "metadata": {
  "kernelspec": {
   "display_name": "Python 3",
   "language": "python",
   "name": "python3"
  },
  "language_info": {
   "codemirror_mode": {
    "name": "ipython",
    "version": 3
   },
   "file_extension": ".py",
   "mimetype": "text/x-python",
   "name": "python",
   "nbconvert_exporter": "python",
   "pygments_lexer": "ipython3",
   "version": "3.6.1"
  }
 },
 "nbformat": 4,
 "nbformat_minor": 2
}
