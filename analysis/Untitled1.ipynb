{
 "cells": [
  {
   "cell_type": "code",
   "execution_count": 69,
   "metadata": {},
   "outputs": [
    {
     "name": "stdout",
     "output_type": "stream",
     "text": [
      "Overwriting setup.py\n"
     ]
    }
   ],
   "source": [
    "%%writefile setup.py\n",
    "# -*- coding: utf-8 -*-\n",
    "\n",
    "from setuptools import setup, find_packages\n",
    "\n",
    "setup(\n",
    "    name='mypackage',\n",
    "    description='Demo of project templating layers',\n",
    "    author='Chris ',\n",
    "    author_email='chris@example.com',\n",
    "    # Required for packaging source distribution from 'src' subfolder\n",
    "    packages=find_packages(where='src', exclude='tests'),\n",
    "    package_dir={'': 'src'},\n",
    "    include_package_data=True,\n",
    "    # Use version control to define version tag\n",
    "    use_scm_version={\"root\": \"..\", \"relative_to\": __file__},\n",
    "    # Unfrozen Dependencies\n",
    "    install_requires=[\n",
    "        'ipython',\n",
    "        'jupyter',\n",
    "        'pandas',\n",
    "    ],\n",
    "    # This next section registers a command line utility that will execute\n",
    "    # the `main()` function in the `main` module of `mypackage`\n",
    "    entry_points={\n",
    "        'console_scripts': [\n",
    "            'mypackage=mypackage.main:main'\n",
    "        ]\n",
    "    },\n",
    ")\n"
   ]
  },
  {
   "cell_type": "code",
   "execution_count": 83,
   "metadata": {},
   "outputs": [],
   "source": [
    "import re \n",
    "from pathlib import Path\n",
    "import textwrap\n",
    "\n",
    "def comment_out_setup_dependencies(setup_file_path):\n",
    "    \n",
    "    setup_file_path = Path(setup_file_path)\n",
    "    pattern = re.compile(r\" *install_requires\\s*=\\s*\\[.*?\\]\", flags=re.DOTALL)\n",
    "    \n",
    "    # match the install_requires section\n",
    "    res = pattern.search(setup_file_path.read_text())\n",
    "    \n",
    "    # Extract the matched substring and comment out every line\n",
    "    new_string = res.group()\n",
    "    new_string = textwrap.dedent(new_string)\n",
    "    new_string = textwrap.indent(new_string, prefix='# ')\n",
    "    new_string = textwrap.indent(new_string, prefix='    ')\n",
    "    \n",
    "    # Substitute new substring into position in the file\n",
    "    new_text = pattern.sub(new_string, res.string)\n",
    "    setup_file_path.write_text(new_text)\n",
    "    "
   ]
  },
  {
   "cell_type": "code",
   "execution_count": 84,
   "metadata": {
    "collapsed": true
   },
   "outputs": [],
   "source": [
    "comment_out_setup_dependencies('setup.py')"
   ]
  },
  {
   "cell_type": "code",
   "execution_count": 85,
   "metadata": {},
   "outputs": [
    {
     "name": "stdout",
     "output_type": "stream",
     "text": [
      "# -*- coding: utf-8 -*-\r\n",
      "\r\n",
      "from setuptools import setup, find_packages\r\n",
      "\r\n",
      "setup(\r\n",
      "    name='mypackage',\r\n",
      "    description='Demo of project templating layers',\r\n",
      "    author='Chris ',\r\n",
      "    author_email='chris@example.com',\r\n",
      "    # Required for packaging source distribution from 'src' subfolder\r\n",
      "    packages=find_packages(where='src', exclude='tests'),\r\n",
      "    package_dir={'': 'src'},\r\n",
      "    include_package_data=True,\r\n",
      "    # Use version control to define version tag\r\n",
      "    use_scm_version={\"root\": \"..\", \"relative_to\": __file__},\r\n",
      "    # Unfrozen Dependencies\r\n",
      "    # install_requires=[\r\n",
      "    #     'ipython',\r\n",
      "    #     'jupyter',\r\n",
      "    #     'pandas',\r\n",
      "    # ],\r\n",
      "    # This next section registers a command line utility that will execute\r\n",
      "    # the `main()` function in the `main` module of `mypackage`\r\n",
      "    entry_points={\r\n",
      "        'console_scripts': [\r\n",
      "            'mypackage=mypackage.main:main'\r\n",
      "        ]\r\n",
      "    },\r\n",
      ")"
     ]
    }
   ],
   "source": [
    "cat setup.py"
   ]
  },
  {
   "cell_type": "code",
   "execution_count": null,
   "metadata": {
    "collapsed": true
   },
   "outputs": [],
   "source": []
  }
 ],
 "metadata": {
  "kernelspec": {
   "display_name": "Python 3",
   "language": "python",
   "name": "python3"
  },
  "language_info": {
   "codemirror_mode": {
    "name": "ipython",
    "version": 3
   },
   "file_extension": ".py",
   "mimetype": "text/x-python",
   "name": "python",
   "nbconvert_exporter": "python",
   "pygments_lexer": "ipython3",
   "version": "3.6.1"
  }
 },
 "nbformat": 4,
 "nbformat_minor": 2
}
