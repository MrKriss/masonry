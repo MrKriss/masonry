{
 "cells": [
  {
   "cell_type": "markdown",
   "metadata": {},
   "source": [
    "# Setup"
   ]
  },
  {
   "cell_type": "code",
   "execution_count": 1,
   "metadata": {
    "collapsed": true
   },
   "outputs": [],
   "source": [
    "import sys\n",
    "sys.path.insert(0, '../package/src/')"
   ]
  },
  {
   "cell_type": "code",
   "execution_count": 2,
   "metadata": {
    "collapsed": true
   },
   "outputs": [],
   "source": [
    "from pathlib import Path"
   ]
  },
  {
   "cell_type": "code",
   "execution_count": 3,
   "metadata": {
    "collapsed": true
   },
   "outputs": [],
   "source": [
    "from masonry.resolution import create_dependency_graph, resolve\n",
    "from masonry.render import render_cookiecutter"
   ]
  },
  {
   "cell_type": "markdown",
   "metadata": {},
   "source": [
    "## Inputs"
   ]
  },
  {
   "cell_type": "code",
   "execution_count": 4,
   "metadata": {
    "collapsed": true
   },
   "outputs": [],
   "source": [
    "project_path = Path('../templates/py-project/')\n",
    "template = 'package'"
   ]
  },
  {
   "cell_type": "markdown",
   "metadata": {},
   "source": [
    "## Internal Logic"
   ]
  },
  {
   "cell_type": "code",
   "execution_count": 6,
   "metadata": {},
   "outputs": [],
   "source": [
    "# Work out template names\n",
    "template_paths = { p.name: p for p in project_path.iterdir() if p.is_dir()}\n",
    "template_names = list(template_paths.keys())\n",
    "\n",
    "# Create graph of template dependencies\n",
    "g = create_dependency_graph(project_path / 'metadata.json', \n",
    "                            node_list=template_names)\n",
    "\n",
    "# Resolve dependencies for specified template\n",
    "template_order = [n.name for n in resolve(g['package'])]"
   ]
  },
  {
   "cell_type": "code",
   "execution_count": 7,
   "metadata": {},
   "outputs": [
    {
     "name": "stdout",
     "output_type": "stream",
     "text": [
      "Rendered: ../templates/py-project/basic\n",
      "Rendered: ../templates/py-project/package\n"
     ]
    }
   ],
   "source": [
    "content_variables = {}\n",
    "for name in template_order:\n",
    "    template = template_paths[name].as_posix()\n",
    "    project_dir, content = render_cookiecutter(\n",
    "        template,\n",
    "        extra_context=content_variables, \n",
    "        no_input=True, \n",
    "        output_dir='./test', overwrite_if_exists=True, \n",
    "    )\n",
    "    print(f'Rendered: {template}')\n",
    "    content_variables.update(content)"
   ]
  },
  {
   "cell_type": "code",
   "execution_count": 8,
   "metadata": {},
   "outputs": [
    {
     "data": {
      "text/plain": [
       "{'_template': '../templates/py-project/package',\n",
       " 'author': 'cmusselle',\n",
       " 'git_usage': 'Yes',\n",
       " 'package_name': 'mypackage',\n",
       " 'project_name': 'my-project',\n",
       " 'python_libraries': 'pandas numpy matplotlib seaborn statsmodels scikit-learn',\n",
       " 'python_version': '3',\n",
       " 'short_description': 'What is the purpose of the project?',\n",
       " 'transfer_scripts_to_package': 'Yes'}"
      ]
     },
     "execution_count": 8,
     "metadata": {},
     "output_type": "execute_result"
    }
   ],
   "source": [
    "content_variables"
   ]
  },
  {
   "cell_type": "code",
   "execution_count": 9,
   "metadata": {},
   "outputs": [
    {
     "data": {
      "text/plain": [
       "'/Users/cmusselle/Mango/Workspace/stone-mason/Scripts/test/my-project'"
      ]
     },
     "execution_count": 9,
     "metadata": {},
     "output_type": "execute_result"
    }
   ],
   "source": [
    "project_dir"
   ]
  },
  {
   "cell_type": "code",
   "execution_count": null,
   "metadata": {
    "collapsed": true
   },
   "outputs": [],
   "source": []
  }
 ],
 "metadata": {
  "kernelspec": {
   "display_name": "Python 3",
   "language": "python",
   "name": "python3"
  },
  "language_info": {
   "codemirror_mode": {
    "name": "ipython",
    "version": 3
   },
   "file_extension": ".py",
   "mimetype": "text/x-python",
   "name": "python",
   "nbconvert_exporter": "python",
   "pygments_lexer": "ipython3",
   "version": "3.6.1"
  }
 },
 "nbformat": 4,
 "nbformat_minor": 2
}
