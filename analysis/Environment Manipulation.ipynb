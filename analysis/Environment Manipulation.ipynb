{
 "cells": [
  {
   "cell_type": "code",
   "execution_count": 68,
   "metadata": {},
   "outputs": [
    {
     "name": "stdout",
     "output_type": "stream",
     "text": [
      "Overwriting test_meta.yml\n"
     ]
    }
   ],
   "source": [
    "%%writefile test_meta.yml\n",
    "package:\n",
    "  name: condition_monitoring\n",
    "  version: \"{{ GIT_DESCRIBE_TAG }}\" # {{ environ.get('CI_BUILD_TAG', '0.0.0') }}\n",
    "\n",
    "build:\n",
    "  noarch: python\n",
    "  number: \"{{ GIT_DESCRIBE_NUMBER }}\" # {{ environ.get('CI_BUILD_ID', 0) }}\n",
    "  string: \"{{ GIT_BUILD_STR }}\"\n",
    "  entry_points:\n",
    "     - condition_monitoring = condition_monitoring.command_line:command_line_entry_point\n",
    "\n",
    "source:\n",
    "  path: ../../\n",
    "\n",
    "requirements:\n",
    "  build:\n",
    "    - python >=3.6\n",
    "    - setuptools_scm ==1.15.0\n",
    "\n",
    "  run:\n",
    "    - python ==3.6\n",
    "    - pandas ==0.19.2\n",
    "    - numpy ==1.12.0\n",
    "    - scipy ==0.18.1\n",
    "    - python-dateutil ==2.6.0\n",
    "    - pytz ==2016.10\n",
    "    - six ==1.10.0\n",
    "\n",
    "test:\n",
    "  source_files: \n",
    "   - package/tests/data/*.CSV\n",
    "   - package/tests/data/*.ini\n",
    "   - package/tests/test_*.py\n",
    "\n",
    "  requires: \n",
    "    - pytest ==3.0.7\n",
    "    - pytest-cov ==2.3.1\n",
    "    - pytest-runner ==2.11.1\n",
    "\n",
    "  # Python imports\n",
    "  imports:\n",
    "    - condition_monitoring.clean\n",
    "    - condition_monitoring.command_line\n",
    "    - condition_monitoring.event_detectors\n",
    "    - condition_monitoring.experiment\n",
    "    - condition_monitoring.sax\n",
    "    - condition_monitoring.utils\n",
    "\n",
    "  commands:\n",
    "    - condition_monitoring -h\n",
    "\n",
    "  # A file called run_test.py is also included in the recipe that will be run\n",
    "  # at test time.\n",
    "\n",
    "# See\n",
    "# http://docs.continuum.io/conda/build.html for\n",
    "# more information about meta.yaml\n"
   ]
  },
  {
   "cell_type": "code",
   "execution_count": 41,
   "metadata": {},
   "outputs": [
    {
     "data": {
      "text/plain": [
       "'/Users/cmusselle/Mango/Workspace/stone-mason/analysis'"
      ]
     },
     "execution_count": 41,
     "metadata": {},
     "output_type": "execute_result"
    }
   ],
   "source": [
    "pwd"
   ]
  },
  {
   "cell_type": "code",
   "execution_count": 9,
   "metadata": {
    "collapsed": true
   },
   "outputs": [
    {
     "name": "stdout",
     "output_type": "stream",
     "text": [
      "package:\r\n",
      "  name: {{cookiecutter.package_name}}\r\n",
      "  version: {% raw %}\"{{ GIT_DESCRIBE_TAG }}\"{% endraw %} \r\n",
      "\r\n",
      "build:\r\n",
      "  noarch: python\r\n",
      "  number: {% raw %}\"{{ GIT_DESCRIBE_NUMBER }}\"{% endraw %}\r\n",
      "  string: {% raw %}\"{{ GIT_BUILD_STR }}\"{% endraw %}\r\n",
      "{%- if cookiecutter.entry_point_name != \"\" %}\r\n",
      "  entry_points:\r\n",
      "     - {{cookiecutter.entry_point_name}} = {{cookiecutter.package_name}}.main:main\r\n",
      "{%- endif %}\r\n",
      "\r\n",
      "source:\r\n",
      "  path: ../\r\n",
      "\r\n",
      "requirements:\r\n",
      "  build:\r\n",
      "    - python >=3.6.0\r\n",
      "    - setuptools_scm >=1.15.0\r\n",
      "\r\n",
      "  run:\r\n",
      "    - python >=3.6.0\r\n",
      "\r\n",
      "test:\r\n",
      "  source_files: \r\n",
      "   - package/tests/data/*\r\n",
      "   - package/tests/test_*.py\r\n",
      "\r\n",
      "  requires: \r\n",
      "    - pytest >=3.0.7\r\n",
      "    - pytest-cov >=2.3.1\r\n",
      "\r\n",
      "{% if cookiecutter.entry_point_name != \"\" -%}\r\n",
      "  commands:\r\n",
      "    - {{cookiecutter.entry_point_name}} -h \r\n",
      "{%- endif %}\r\n",
      "\r\n",
      "  # A file called run_test.py is also included in the recipe that will be run\r\n",
      "  # at test time.\r\n",
      "\r\n",
      "# See\r\n",
      "# http://docs.continuum.io/conda/build.html for\r\n",
      "# more information about meta.yaml\r\n"
     ]
    }
   ],
   "source": [
    "cat ../package/tests/data/python-project/conda/\\{\\{cookiecutter.package_name\\}\\}/recipes/\\{\\{cookiecutter.package_name\\}\\}/meta.yaml\n"
   ]
  },
  {
   "cell_type": "code",
   "execution_count": 69,
   "metadata": {},
   "outputs": [],
   "source": [
    "\"\"\" Hook to add all items in the requirements file to the conda meat.ymal run requirements \"\"\"\n",
    "\n",
    "import pathlib\n",
    "from ruamel.yaml import YAML"
   ]
  },
  {
   "cell_type": "code",
   "execution_count": 70,
   "metadata": {},
   "outputs": [],
   "source": [
    "PY_VERSON = \"python=3.6\" # {{cookiecutter.python_version}}\n",
    "\n",
    "environment_file = pathlib.Path('..').resolve() / 'package' / 'dev_environment.yml'\n",
    "conda_metadata_file = pathlib.Path('test_meta.yml')\n",
    "\n",
    "yaml = YAML()\n",
    "yaml.default_flow_style = False\n",
    "\n",
    "environment_spec = yaml.load(environment_file.open())\n",
    "conda_recipe = yaml.load(conda_metadata_file.open())\n",
    "\n",
    "for package in environment_spec['dependencies']:\n",
    "    if isinstance(package, str):\n",
    "        if not package.startswith(PY_VERSON):\n",
    "            conda_recipe['requirements']['run'].append(package)\n",
    "                \n",
    "print(conda_recipe['requirements']['run'])"
   ]
  },
  {
   "cell_type": "code",
   "execution_count": 75,
   "metadata": {},
   "outputs": [
    {
     "data": {
      "text/plain": [
       "CommentedMapItemsView(ordereddict([('pip', ['inquirer', 'ruamel.yaml', 'schema'])]))"
      ]
     },
     "execution_count": 75,
     "metadata": {},
     "output_type": "execute_result"
    }
   ],
   "source": []
  },
  {
   "cell_type": "code",
   "execution_count": 19,
   "metadata": {},
   "outputs": [
    {
     "data": {
      "text/plain": [
       "['python=3.6.1',\n",
       " 'cookiecutter',\n",
       " 'docopt',\n",
       " 'gitpython',\n",
       " 'clint',\n",
       " 'pytest',\n",
       " 'pytest-cov',\n",
       " 'coverage',\n",
       " CommentedMap([('pip', ['inquirer', 'ruamel.yaml', 'schema'])])]"
      ]
     },
     "execution_count": 19,
     "metadata": {},
     "output_type": "execute_result"
    }
   ],
   "source": [
    "environment_spec['dependencies']"
   ]
  },
  {
   "cell_type": "code",
   "execution_count": null,
   "metadata": {
    "collapsed": true
   },
   "outputs": [],
   "source": [
    "- python={{cookiecutter.python_version}}"
   ]
  },
  {
   "cell_type": "code",
   "execution_count": null,
   "metadata": {
    "collapsed": true
   },
   "outputs": [],
   "source": [
    "conda_recipe['requirements']['run'].extend(dependencies)\n",
    "yaml.dump(conda_recipe, conda_metadata_file.open(mode='w'))"
   ]
  },
  {
   "cell_type": "code",
   "execution_count": null,
   "metadata": {
    "collapsed": true
   },
   "outputs": [],
   "source": [
    "conda_metadata_file = pathlib.Path('.').resolve() / 'recipe' / 'meta.yaml'\n",
    "\n",
    "if requirements_file.exists():\n",
    "    dependencies = []\n",
    "\n",
    "    for item in pip.req.parse_requirements(requirements_file.as_posix(), session=\"somesession\"):\n",
    "\n",
    "        if isinstance(item, pip.req.InstallRequirement):\n",
    "            dep = f\"{item.name} {item.req.specifier}\"\n",
    "            dependencies.append(dep)\n",
    "\n",
    "    # Load existing conda metadata, append dependencies and write back out\n",
    "    yaml = YAML()\n",
    "    yaml.default_flow_style = False\n",
    "    conda_recipe = yaml.load(conda_metadata_file.open())\n",
    "    conda_recipe['requirements']['run'].extend(dependencies)\n",
    "    yaml.dump(conda_recipe, conda_metadata_file.open(mode='w'))"
   ]
  }
 ],
 "metadata": {
  "kernelspec": {
   "display_name": "Python 3",
   "language": "python",
   "name": "python3"
  },
  "language_info": {
   "codemirror_mode": {
    "name": "ipython",
    "version": 3
   },
   "file_extension": ".py",
   "mimetype": "text/x-python",
   "name": "python",
   "nbconvert_exporter": "python",
   "pygments_lexer": "ipython3",
   "version": "3.6.1"
  }
 },
 "nbformat": 4,
 "nbformat_minor": 2
}
