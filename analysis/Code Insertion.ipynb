{
 "cells": [
  {
   "cell_type": "markdown",
   "metadata": {},
   "source": [
    "# Strategy \n",
    "\n",
    "Start with two possible insertion points, before and after the main body of code. Where body is the part between the last import statment (and constants if present) the `if __name__ == '__main__':` line (if it is present).\n",
    "\n",
    "1. Get AST of original file and work out line number of last first/last function or class in the file\n",
    "2. Pass that file and find the previous line that contains only white space. This is the insertion point. \n",
    "3. Insert content of file in this location, padding with the right amount of white space \n"
   ]
  },
  {
   "cell_type": "markdown",
   "metadata": {},
   "source": [
    "# Test Data"
   ]
  },
  {
   "cell_type": "code",
   "execution_count": 1,
   "metadata": {},
   "outputs": [
    {
     "name": "stdout",
     "output_type": "stream",
     "text": [
      "Overwriting test_code1.py\n"
     ]
    }
   ],
   "source": [
    "%%writefile test_code1.py\n",
    "#!/usr/bin/env python3\n",
    "# -*- coding: utf-8 -*-\n",
    "\"\"\"\n",
    "Im a doc sting!!!\n",
    "\"\"\"\n",
    "\n",
    "import sys \n",
    "import os \n",
    "\n",
    "from fileinput import FileInput\n",
    "\n",
    "# Here are some data science libraries \n",
    "import pandas as pd\n",
    "import numpy as np \n",
    "\n",
    "MY_CONSTANT = 12124\n",
    "\n",
    "\n",
    "# This function is important\n",
    "def function1(arg1, arg2):\n",
    "    \"\"\"This is my doc string of things\"\"\"\n",
    "    ans = arg1 + arg2\n",
    "    return ans\n",
    "\n",
    "\n",
    "def function2(arg1, arg2):\n",
    "    \"\"\"This is my doc string of things\"\"\"\n",
    "    ans = f'  {arg1} + {arg2}  '\n",
    "    return ans\n",
    "\n",
    "\n",
    "def function3(arg1, arg2):\n",
    "    \"\"\"This is my doc string of things\n",
    "    \n",
    "    Here is an\n",
    "    extended decription.\n",
    "    \"\"\"\n",
    "    ans = arg1 + arg2\n",
    "    return ans\n",
    "\n",
    "\n",
    "if __name__ == '__main__':\n",
    "    print(function1(5, 6))\n",
    "    \n",
    "    print(function2(5, 6))"
   ]
  },
  {
   "cell_type": "code",
   "execution_count": 2,
   "metadata": {},
   "outputs": [
    {
     "name": "stdout",
     "output_type": "stream",
     "text": [
      "Overwriting test_code2.py\n"
     ]
    }
   ],
   "source": [
    "%%writefile test_code2.py\n",
    "#!/usr/bin/env python3\n",
    "# -*- coding: utf-8 -*-\n",
    "\"\"\"\n",
    "Im a doc sting!!!\n",
    "\"\"\"\n",
    "\n",
    "import sys \n",
    "import os \n",
    "\n",
    "from fileinput import FileInput\n",
    "\n",
    "# Here are some data science libraries \n",
    "import pandas as pd\n",
    "import numpy as np \n",
    "\n",
    "MY_CONSTANT = 12124\n",
    "\n",
    "if __name__ == '__main__':\n",
    "    print(function1(5, 6))\n",
    "    \n",
    "    print(function2(5, 6))"
   ]
  },
  {
   "cell_type": "code",
   "execution_count": 3,
   "metadata": {},
   "outputs": [
    {
     "name": "stdout",
     "output_type": "stream",
     "text": [
      "Overwriting test_code3.py\n"
     ]
    }
   ],
   "source": [
    "%%writefile test_code3.py\n",
    "#!/usr/bin/env python3\n",
    "# -*- coding: utf-8 -*-\n",
    "\"\"\"\n",
    "Im a doc sting!!!\n",
    "\"\"\"\n",
    "\n",
    "import sys \n",
    "import os \n",
    "\n",
    "from fileinput import FileInput\n",
    "\n",
    "# Here are some data science libraries \n",
    "import pandas as pd\n",
    "import numpy as np \n"
   ]
  },
  {
   "cell_type": "code",
   "execution_count": 4,
   "metadata": {},
   "outputs": [
    {
     "name": "stdout",
     "output_type": "stream",
     "text": [
      "Overwriting test_code4.py\n"
     ]
    }
   ],
   "source": [
    "%%writefile test_code4.py\n",
    "#!/usr/bin/env python3\n",
    "# -*- coding: utf-8 -*-\n",
    "\n",
    "MY_CONSTANT = 12124\n",
    "\n",
    "a = 10\n",
    "b = 20\n",
    "\n",
    "if __name__ == '__main__':\n",
    "    print(function1(5, 6))\n",
    "    \n",
    "    print(function2(5, 6))"
   ]
  },
  {
   "cell_type": "code",
   "execution_count": 5,
   "metadata": {},
   "outputs": [
    {
     "name": "stdout",
     "output_type": "stream",
     "text": [
      "Overwriting test_code5.py\n"
     ]
    }
   ],
   "source": [
    "%%writefile test_code5.py\n",
    "#!/usr/bin/env python3\n",
    "# -*- coding: utf-8 -*-\n"
   ]
  },
  {
   "cell_type": "code",
   "execution_count": 6,
   "metadata": {},
   "outputs": [
    {
     "name": "stdout",
     "output_type": "stream",
     "text": [
      "Overwriting new_code.py\n"
     ]
    }
   ],
   "source": [
    "%%writefile new_code.py\n",
    "\n",
    "def my_new_first_function(arg1, arg2):\n",
    "    \"\"\"This is my doc string of things\"\"\"\n",
    "    ans = arg1 * arg2\n",
    "    return ans"
   ]
  },
  {
   "cell_type": "markdown",
   "metadata": {},
   "source": [
    "# Code and Usage"
   ]
  },
  {
   "cell_type": "code",
   "execution_count": 7,
   "metadata": {
    "collapsed": true
   },
   "outputs": [],
   "source": [
    "from masonry.postprocess import insert_code"
   ]
  },
  {
   "cell_type": "code",
   "execution_count": 8,
   "metadata": {},
   "outputs": [],
   "source": [
    "new = insert_code('new_code.py', 'test_code1.py', kind='postfix')\n",
    "print(new, file=open('result1_post.py', 'w'))"
   ]
  },
  {
   "cell_type": "code",
   "execution_count": 9,
   "metadata": {
    "collapsed": true
   },
   "outputs": [],
   "source": [
    "new = insert_code('new_code.py', 'test_code1.py', kind='prefix')\n",
    "print(new, file=open('result1_pre.py', 'w'))"
   ]
  },
  {
   "cell_type": "code",
   "execution_count": 10,
   "metadata": {},
   "outputs": [],
   "source": [
    "new = insert_code('new_code.py', 'test_code2.py', kind='postfix')\n",
    "print(new, file=open('result2_post.py', 'w'))"
   ]
  },
  {
   "cell_type": "code",
   "execution_count": 11,
   "metadata": {
    "collapsed": true
   },
   "outputs": [],
   "source": [
    "new = insert_code('new_code.py', 'test_code2.py', kind='prefix')\n",
    "print(new, file=open('result2_pre.py', 'w'))"
   ]
  },
  {
   "cell_type": "code",
   "execution_count": 12,
   "metadata": {},
   "outputs": [],
   "source": [
    "new = insert_code('new_code.py', 'test_code3.py', kind='postfix')\n",
    "print(new, file=open('result3_post.py', 'w'))"
   ]
  },
  {
   "cell_type": "code",
   "execution_count": 13,
   "metadata": {
    "collapsed": true
   },
   "outputs": [],
   "source": [
    "new = insert_code('new_code.py', 'test_code3.py', kind='prefix')\n",
    "print(new, file=open('result3_pre.py', 'w'))"
   ]
  },
  {
   "cell_type": "code",
   "execution_count": 14,
   "metadata": {},
   "outputs": [],
   "source": [
    "new = insert_code('new_code.py', 'test_code4.py', kind='postfix')\n",
    "print(new, file=open('result4_post.py', 'w'))"
   ]
  },
  {
   "cell_type": "code",
   "execution_count": 15,
   "metadata": {
    "collapsed": true
   },
   "outputs": [],
   "source": [
    "new = insert_code('new_code.py', 'test_code4.py', kind='prefix')\n",
    "print(new, file=open('result4_pre.py', 'w'))"
   ]
  },
  {
   "cell_type": "code",
   "execution_count": 16,
   "metadata": {},
   "outputs": [],
   "source": [
    "new = insert_code('new_code.py', 'test_code5.py', kind='postfix')\n",
    "print(new, file=open('result5_post.py', 'w'))"
   ]
  },
  {
   "cell_type": "code",
   "execution_count": 17,
   "metadata": {
    "collapsed": true
   },
   "outputs": [],
   "source": [
    "new = insert_code('new_code.py', 'test_code5.py', kind='prefix')\n",
    "print(new, file=open('result5_pre.py', 'w'))"
   ]
  }
 ],
 "metadata": {
  "kernelspec": {
   "display_name": "Python 3",
   "language": "python",
   "name": "python3"
  },
  "language_info": {
   "codemirror_mode": {
    "name": "ipython",
    "version": 3
   },
   "file_extension": ".py",
   "mimetype": "text/x-python",
   "name": "python",
   "nbconvert_exporter": "python",
   "pygments_lexer": "ipython3",
   "version": "3.6.1"
  }
 },
 "nbformat": 4,
 "nbformat_minor": 2
}
