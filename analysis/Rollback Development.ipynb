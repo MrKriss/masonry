{
 "cells": [
  {
   "cell_type": "code",
   "execution_count": 5,
   "metadata": {
    "collapsed": true
   },
   "outputs": [],
   "source": [
    "import tempfile\n",
    "import shutil\n",
    "from pathlib import Path"
   ]
  },
  {
   "cell_type": "code",
   "execution_count": 10,
   "metadata": {
    "collapsed": true
   },
   "outputs": [],
   "source": [
    "mkdir test_dir"
   ]
  },
  {
   "cell_type": "code",
   "execution_count": 33,
   "metadata": {},
   "outputs": [
    {
     "name": "stdout",
     "output_type": "stream",
     "text": [
      "Overwriting test_dir/i_will_break.py\n"
     ]
    }
   ],
   "source": [
    "%%writefile test_dir/i_will_break.py\n",
    "f = open('test_dir/poop', 'w')\n",
    "f.write('sfaregwrhwrhh')\n",
    "1 / 0 "
   ]
  },
  {
   "cell_type": "code",
   "execution_count": 37,
   "metadata": {},
   "outputs": [
    {
     "ename": "ZeroDivisionError",
     "evalue": "division by zero",
     "output_type": "error",
     "traceback": [
      "\u001b[0;31m---------------------------------------------------------------------------\u001b[0m",
      "\u001b[0;31mZeroDivisionError\u001b[0m                         Traceback (most recent call last)",
      "\u001b[0;32m<ipython-input-37-5dff1848f483>\u001b[0m in \u001b[0;36m<module>\u001b[0;34m()\u001b[0m\n\u001b[1;32m      1\u001b[0m \u001b[0mcode\u001b[0m \u001b[0;34m=\u001b[0m \u001b[0;34m(\u001b[0m\u001b[0mtarget_dir\u001b[0m \u001b[0;34m/\u001b[0m \u001b[0;34m'i_will_break.py'\u001b[0m\u001b[0;34m)\u001b[0m\u001b[0;34m.\u001b[0m\u001b[0mread_text\u001b[0m\u001b[0;34m(\u001b[0m\u001b[0;34m)\u001b[0m\u001b[0;34m\u001b[0m\u001b[0m\n\u001b[0;32m----> 2\u001b[0;31m \u001b[0mexec\u001b[0m\u001b[0;34m(\u001b[0m\u001b[0mcode\u001b[0m\u001b[0;34m)\u001b[0m\u001b[0;34m\u001b[0m\u001b[0m\n\u001b[0m",
      "\u001b[0;32m<string>\u001b[0m in \u001b[0;36m<module>\u001b[0;34m()\u001b[0m\n",
      "\u001b[0;31mZeroDivisionError\u001b[0m: division by zero"
     ]
    }
   ],
   "source": [
    "code = (target_dir / 'i_will_break.py').read_text()\n",
    "exec(code)"
   ]
  },
  {
   "cell_type": "code",
   "execution_count": 39,
   "metadata": {},
   "outputs": [],
   "source": [
    "backup_dir = Path(tempfile.mkdtemp()) / 'backup'\n",
    "target_dir = Path('test_dir/')"
   ]
  },
  {
   "cell_type": "code",
   "execution_count": 40,
   "metadata": {},
   "outputs": [
    {
     "data": {
      "text/plain": [
       "PosixPath('/var/folders/vr/c6gyty1d7rb_swzt_j31r4rdg1hszv/T/tmpq_slj50_/backup')"
      ]
     },
     "execution_count": 40,
     "metadata": {},
     "output_type": "execute_result"
    }
   ],
   "source": [
    "shutil.copytree(target_dir, backup_dir)"
   ]
  },
  {
   "cell_type": "code",
   "execution_count": 41,
   "metadata": {},
   "outputs": [
    {
     "name": "stdout",
     "output_type": "stream",
     "text": [
      "i_will_break.py\r\n"
     ]
    }
   ],
   "source": [
    "ls /var/folders/vr/c6gyty1d7rb_swzt_j31r4rdg1hszv/T/tmpq_slj50_/backup"
   ]
  },
  {
   "cell_type": "code",
   "execution_count": 38,
   "metadata": {},
   "outputs": [
    {
     "name": "stdout",
     "output_type": "stream",
     "text": [
      "The following error occurs during templating, Rolling back to last stable state.\n",
      "division by zero\n",
      "Copied /var/folders/vr/c6gyty1d7rb_swzt_j31r4rdg1hszv/T/tmp4fqvwzfd/backup to test_dir\n"
     ]
    }
   ],
   "source": [
    "try:\n",
    "    code = (target_dir / 'i_will_break.py').read_text()\n",
    "    exec(code)\n",
    "except Exception as e:\n",
    "    print(\"The following error occurs during templating, Rolling back to last stable state.\")\n",
    "    print(e)\n",
    "    shutil.rmtree(target_dir)\n",
    "    shutil.copytree(backup_dir, target_dir)\n",
    "    print(f'Copied {backup_dir} to {target_dir}')"
   ]
  },
  {
   "cell_type": "code",
   "execution_count": null,
   "metadata": {},
   "outputs": [],
   "source": []
  },
  {
   "cell_type": "code",
   "execution_count": null,
   "metadata": {
    "collapsed": true
   },
   "outputs": [],
   "source": [
    "def safe_render(old, new, context):\n",
    "    \"\"\"Safely Render a new template by first making a backup to roll back to if needed.\"\"\"\n",
    "\n",
    "    # Copy current directory to temp backup location\n",
    "    backup_dir = Path(tempfile.mkdtemp()) / 'backup'\n",
    "    shutil.copytree(target_dir, backup_dir)\n",
    "\n",
    "    try:\n",
    "        output_dir, content = render_cookiecutter(\n",
    "            template, no_input=True,\n",
    "            extra_context=context,\n",
    "            output_dir=target_dir,\n",
    "            overwrite_if_exists=True,\n",
    "        )\n",
    "    except Exception as e:\n",
    "        # Rollback\n",
    "        print(\"The following error occurs during templating, Rolling back to last stable state.\")\n",
    "        print(e)\n",
    "        shutil.copytree(backup_dir, target_dir)\n",
    "        shutil.rmtree(target_dir)\n",
    "        print('Copied {backup_dir} to {target_dir.parent}')\n",
    "        sys.exit(1)\n",
    "\n",
    "    shutil.rmtree(backup_dir.as_posix())\n",
    "\n",
    "    return output_dir, content"
   ]
  }
 ],
 "metadata": {
  "kernelspec": {
   "display_name": "Python 3",
   "language": "python",
   "name": "python3"
  },
  "language_info": {
   "codemirror_mode": {
    "name": "ipython",
    "version": 3
   },
   "file_extension": ".py",
   "mimetype": "text/x-python",
   "name": "python",
   "nbconvert_exporter": "python",
   "pygments_lexer": "ipython3",
   "version": "3.6.1"
  }
 },
 "nbformat": 4,
 "nbformat_minor": 2
}
