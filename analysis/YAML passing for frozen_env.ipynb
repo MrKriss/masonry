{
 "cells": [
  {
   "cell_type": "code",
   "execution_count": 1,
   "metadata": {
    "collapsed": true
   },
   "outputs": [],
   "source": [
    "from ruamel.yaml import YAML"
   ]
  },
  {
   "cell_type": "code",
   "execution_count": 2,
   "metadata": {
    "collapsed": true
   },
   "outputs": [],
   "source": [
    "paser = YAML()"
   ]
  },
  {
   "cell_type": "code",
   "execution_count": 3,
   "metadata": {
    "collapsed": true
   },
   "outputs": [],
   "source": [
    "dev_env = paser.load(open('package/dev_environment.yml'))"
   ]
  },
  {
   "cell_type": "code",
   "execution_count": 4,
   "metadata": {
    "collapsed": true
   },
   "outputs": [],
   "source": [
    "frozen_env = paser.load(open('package/frozen_environment.yml'))"
   ]
  },
  {
   "cell_type": "code",
   "execution_count": 5,
   "metadata": {
    "collapsed": true
   },
   "outputs": [],
   "source": [
    "core_libs = dev_env['dependencies']"
   ]
  },
  {
   "cell_type": "code",
   "execution_count": 11,
   "metadata": {},
   "outputs": [
    {
     "name": "stdout",
     "output_type": "stream",
     "text": [
      "python-dotenv=0.6.1=py36_0\n",
      "python-dotenv=0.6.1\n",
      "python=3.6.3=h6804ab2_0\n",
      "python=3.6.3\n"
     ]
    }
   ],
   "source": [
    "for lib in frozen_env['dependencies']:\n",
    "    if any(x in lib for x in core_libs):\n",
    "        print(lib)\n",
    "        parts = lib.split('=')\n",
    "        new_parts = '='.join(parts[:2])\n",
    "        print(new_parts)\n",
    "        "
   ]
  },
  {
   "cell_type": "code",
   "execution_count": 18,
   "metadata": {
    "collapsed": true
   },
   "outputs": [],
   "source": [
    "import subprocess\n",
    "import shlex\n",
    "import json"
   ]
  },
  {
   "cell_type": "code",
   "execution_count": 16,
   "metadata": {},
   "outputs": [],
   "source": [
    "ENV_NAME = \"test-i2o-cm\"\n",
    "cmd = f\"conda list -n {ENV_NAME} --json\"\n",
    "p = subprocess.run(shlex.split(cmd), stdout=subprocess.PIPE)"
   ]
  },
  {
   "cell_type": "code",
   "execution_count": 19,
   "metadata": {},
   "outputs": [],
   "source": [
    "listed_libs = json.loads(p.stdout.decode())"
   ]
  },
  {
   "cell_type": "code",
   "execution_count": 21,
   "metadata": {},
   "outputs": [
    {
     "data": {
      "text/plain": [
       "['ca-certificates=2017.08.26',\n",
       " 'certifi=2017.7.27.1',\n",
       " 'libcxx=4.0.1',\n",
       " 'libcxxabi=4.0.1',\n",
       " 'libedit=3.1',\n",
       " 'libffi=3.2.1',\n",
       " 'ncurses=6.0',\n",
       " 'openssl=1.0.2l',\n",
       " 'pip=9.0.1',\n",
       " 'python=3.6.3',\n",
       " 'readline=7.0',\n",
       " 'setuptools=36.5.0',\n",
       " 'setuptools_scm=1.15.6',\n",
       " 'sqlite=3.20.1',\n",
       " 'tk=8.6.7',\n",
       " 'wheel=0.29.0',\n",
       " 'xz=5.2.3',\n",
       " 'zlib=1.2.11']"
      ]
     },
     "execution_count": 21,
     "metadata": {},
     "output_type": "execute_result"
    }
   ],
   "source": [
    "[f\"{x['name']}={x['version']}\"for x in listed_libs]"
   ]
  },
  {
   "cell_type": "code",
   "execution_count": 12,
   "metadata": {},
   "outputs": [
    {
     "name": "stdout",
     "output_type": "stream",
     "text": [
      "\r\n",
      "CondaEnvironmentNotFoundError: Could not find environment: mypackage .\r\n",
      "You can list all discoverable environments with `conda info --envs`.\r\n",
      "\r\n"
     ]
    }
   ],
   "source": [
    "!conda list -n mypackage"
   ]
  },
  {
   "cell_type": "code",
   "execution_count": 7,
   "metadata": {},
   "outputs": [
    {
     "data": {
      "text/plain": [
       "['python-dotenv=0.6.1=py36_0',\n",
       " 'ca-certificates=2017.08.26=ha1e5d58_0',\n",
       " 'certifi=2017.7.27.1=py36hd973bb6_0',\n",
       " 'click=6.7=py36hec950be_0',\n",
       " 'libcxx=4.0.1=h579ed51_0',\n",
       " 'libcxxabi=4.0.1=hebd6815_0',\n",
       " 'libedit=3.1=hb4e282d_0',\n",
       " 'libffi=3.2.1=hd939716_3',\n",
       " 'ncurses=6.0=ha932d30_1',\n",
       " 'openssl=1.0.2l=h57f3a61_2',\n",
       " 'pip=9.0.1=py36hbd95645_3',\n",
       " 'python=3.6.3=h6804ab2_0',\n",
       " 'readline=7.0=h81b24a6_3',\n",
       " 'setuptools=36.5.0=py36h2134326_0',\n",
       " 'sqlite=3.20.1=h900c3b0_1',\n",
       " 'tk=8.6.7=hcdce994_1',\n",
       " 'wheel=0.29.0=py36h3597b6d_1',\n",
       " 'xz=5.2.3=ha24016e_1',\n",
       " 'zlib=1.2.11=h60db283_1']"
      ]
     },
     "execution_count": 7,
     "metadata": {},
     "output_type": "execute_result"
    }
   ],
   "source": [
    "frozen_env['dependencies']"
   ]
  },
  {
   "cell_type": "code",
   "execution_count": 8,
   "metadata": {},
   "outputs": [
    {
     "data": {
      "text/plain": [
       "['python=3.6', 'python-dotenv', 'pytest', 'pytest-cov', 'coverage']"
      ]
     },
     "execution_count": 8,
     "metadata": {},
     "output_type": "execute_result"
    }
   ],
   "source": [
    "core_libs"
   ]
  },
  {
   "cell_type": "code",
   "execution_count": null,
   "metadata": {
    "collapsed": true
   },
   "outputs": [],
   "source": []
  }
 ],
 "metadata": {
  "kernelspec": {
   "display_name": "Python 3",
   "language": "python",
   "name": "python3"
  },
  "language_info": {
   "codemirror_mode": {
    "name": "ipython",
    "version": 3
   },
   "file_extension": ".py",
   "mimetype": "text/x-python",
   "name": "python",
   "nbconvert_exporter": "python",
   "pygments_lexer": "ipython3",
   "version": "3.6.1"
  }
 },
 "nbformat": 4,
 "nbformat_minor": 2
}
