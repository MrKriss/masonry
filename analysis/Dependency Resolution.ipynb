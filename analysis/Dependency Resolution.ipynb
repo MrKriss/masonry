{
 "cells": [
  {
   "cell_type": "code",
   "execution_count": 1,
   "metadata": {},
   "outputs": [
    {
     "data": {
      "text/plain": [
       "'/Users/cmusselle/Mango/Workspace/stone-mason/Scripts'"
      ]
     },
     "execution_count": 1,
     "metadata": {},
     "output_type": "execute_result"
    }
   ],
   "source": [
    "pwd"
   ]
  },
  {
   "cell_type": "code",
   "execution_count": 15,
   "metadata": {},
   "outputs": [
    {
     "name": "stdout",
     "output_type": "stream",
     "text": [
      "Overwriting template_metadata.json\n"
     ]
    }
   ],
   "source": [
    "%%writefile template_metadata.json\n",
    "\n",
    "{\n",
    "    \"default\": \"basic\", \n",
    "    \"dependencies\": {\n",
    "        \"package\": [\"basic\"], \n",
    "        \"pytest\": [\"package\"], \n",
    "        \"logging\": [\"package\"], \n",
    "        \"flask\": [\"package\"],\n",
    "        \"conda-recipe\": [\"package\", \"docker\"], \n",
    "        \"docker\": [], \n",
    "        \"deploy\": [\"conda-recipe\", \"docker\", \"gitlab-ci\"], \n",
    "        \"gitlab-ci\": []\n",
    "    }\n",
    "}"
   ]
  },
  {
   "cell_type": "code",
   "execution_count": 16,
   "metadata": {
    "collapsed": true
   },
   "outputs": [],
   "source": [
    "import sys \n",
    "sys.path.insert(0, '../package/src/')"
   ]
  },
  {
   "cell_type": "code",
   "execution_count": 17,
   "metadata": {},
   "outputs": [],
   "source": [
    "from masonry.resolve_deps import create_dep_graph, dep_resolve"
   ]
  },
  {
   "cell_type": "code",
   "execution_count": 18,
   "metadata": {},
   "outputs": [],
   "source": [
    "g = create_dep_graph('template_metadata.json')"
   ]
  },
  {
   "cell_type": "code",
   "execution_count": 20,
   "metadata": {},
   "outputs": [
    {
     "name": "stdout",
     "output_type": "stream",
     "text": [
      "basic\n",
      "package\n",
      "docker\n",
      "conda-recipe\n",
      "gitlab-ci\n",
      "deploy\n"
     ]
    }
   ],
   "source": [
    "resolved = []\n",
    "dep_resolve(g['deploy'], resolved, [])\n",
    "for node in resolved:\n",
    "    print(node.name)"
   ]
  },
  {
   "cell_type": "code",
   "execution_count": null,
   "metadata": {
    "collapsed": true
   },
   "outputs": [],
   "source": []
  }
 ],
 "metadata": {
  "kernelspec": {
   "display_name": "Python 3",
   "language": "python",
   "name": "python3"
  },
  "language_info": {
   "codemirror_mode": {
    "name": "ipython",
    "version": 3
   },
   "file_extension": ".py",
   "mimetype": "text/x-python",
   "name": "python",
   "nbconvert_exporter": "python",
   "pygments_lexer": "ipython3",
   "version": "3.6.1"
  }
 },
 "nbformat": 4,
 "nbformat_minor": 2
}
