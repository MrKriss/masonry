{
 "cells": [
  {
   "cell_type": "code",
   "execution_count": 22,
   "metadata": {},
   "outputs": [
    {
     "name": "stdout",
     "output_type": "stream",
     "text": [
      "Overwriting test.j2\n"
     ]
    }
   ],
   "source": [
    "%%writefile test.j2\n",
    "name: {{project_name}}\n",
    "channels:\n",
    "- defaults\n",
    "- conda-forge\n",
    "dependencies:\n",
    "# Core \n",
    "- python={{python_version}}\n",
    "# 3rd Party\n",
    "{%- set python_libs = python_libraries.split(' ') %}\n",
    "{%- if python_libs != \"NONE\" %}\n",
    "{%- for lib in python_libs %}\n",
    "- {{lib}}\n",
    "{%- endfor %}\n",
    "{% endif %}"
   ]
  },
  {
   "cell_type": "code",
   "execution_count": 23,
   "metadata": {},
   "outputs": [
    {
     "name": "stdout",
     "output_type": "stream",
     "text": [
      "name: Doe\n",
      "channels:\n",
      "- defaults\n",
      "- conda-forge\n",
      "dependencies:\n",
      "# Core \n",
      "- python=3.6.2\n",
      "# 3rd Party\n",
      "- pandas\n",
      "- numpy\n",
      "- matplotlib\n",
      "\n"
     ]
    }
   ],
   "source": [
    "from jinja2 import Template\n",
    "\n",
    "template = Template(open('test.j2').read())\n",
    "s = template.render({\n",
    "    'project_name': 'Doe', \n",
    "    'python_version': '3.6.2', \n",
    "    'python_libraries': 'pandas numpy matplotlib',\n",
    "}) \n",
    "print(s)"
   ]
  },
  {
   "cell_type": "code",
   "execution_count": 24,
   "metadata": {},
   "outputs": [
    {
     "data": {
      "text/plain": [
       "'name: Doe\\nchannels:\\n- defaults\\n- conda-forge\\ndependencies:\\n# Core \\n- python=3.6.2\\n# 3rd Party\\n- pandas\\n- numpy\\n- matplotlib\\n'"
      ]
     },
     "execution_count": 24,
     "metadata": {},
     "output_type": "execute_result"
    }
   ],
   "source": [
    "s"
   ]
  },
  {
   "cell_type": "code",
   "execution_count": null,
   "metadata": {
    "collapsed": true
   },
   "outputs": [],
   "source": []
  }
 ],
 "metadata": {
  "kernelspec": {
   "display_name": "Python 3",
   "language": "python",
   "name": "python3"
  },
  "language_info": {
   "codemirror_mode": {
    "name": "ipython",
    "version": 3
   },
   "file_extension": ".py",
   "mimetype": "text/x-python",
   "name": "python",
   "nbconvert_exporter": "python",
   "pygments_lexer": "ipython3",
   "version": "3.6.1"
  }
 },
 "nbformat": 4,
 "nbformat_minor": 2
}
